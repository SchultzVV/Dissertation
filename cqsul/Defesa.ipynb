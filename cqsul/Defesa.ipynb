{
 "cells": [
  {
   "cell_type": "markdown",
   "id": "e3b23ed1",
   "metadata": {
    "slideshow": {
     "slide_type": "slide"
    }
   },
   "source": [
    "![1.png](1.png)"
   ]
  },
  {
   "cell_type": "markdown",
   "id": "2c378c30",
   "metadata": {
    "slideshow": {
     "slide_type": "slide"
    }
   },
   "source": [
    "#### Organização da apresentação\n",
    "* Algoritmo quântico variacional.\n",
    " * Motivação (shor, vqa, NIST).\n",
    " * Revisão bibliográfica (parameter shift rule, fidelidade, cost).\n",
    " * Preparação de estado geral (gerador RSVG).\n",
    " * Análise de modelos diferentes."
   ]
  },
  {
   "cell_type": "markdown",
   "id": "f2654259",
   "metadata": {
    "slideshow": {
     "slide_type": "subslide"
    }
   },
   "source": [
    "#### Organização da apresentação\n",
    "* Canais quânticos.\n",
    " * Postulados e mapas.\n",
    " * Representação em soma de operadores.\n",
    " * Ruídos como canais quânticos.\n",
    " * Protocolo da simulação."
   ]
  },
  {
   "cell_type": "markdown",
   "id": "fc4e5c24",
   "metadata": {
    "slideshow": {
     "slide_type": "subslide"
    }
   },
   "source": [
    "#### Organização da apresentação\n",
    "* Resultado da simulação de canais quânticos ruidosos.\n",
    " * Canais de amortecimento.\n",
    " * Canais de inversão.\n",
    " * Despolarização.\n",
    " * Canal de Lorentz.\n",
    " * Defasamento de Heisenberg-Wheyl.\n",
    "* Conclusão e perspectivas"
   ]
  },
  {
   "cell_type": "markdown",
   "id": "29019d0b",
   "metadata": {
    "slideshow": {
     "slide_type": "notes"
    }
   },
   "source": [
    "Uma das questões tecnológicas mais importantes é se os computadores quânticos de Escala Intermediária Barulhenta (NISQ, na sigla em inglês) terão aplicações práticas. Dispositivos NISQ são limitados tanto na quantidade de qubits quanto na fidelidade dos portões, o que impede o uso de correção de erros quânticos. A estratégia principal para aproveitar esses dispositivos é por meio de algoritmos quânticos variacionais."
   ]
  },
  {
   "cell_type": "markdown",
   "id": "684fd263",
   "metadata": {
    "slideshow": {
     "slide_type": "notes"
    }
   },
   "source": [
    "Nesse sentido, o método VQE (Variational Quantum Eigensolver), proposto por McClean et al. em 2016 e por Peruzzo et al. em 2014, foi desenvolvido para encontrar o estado fundamental de um Hamiltoniano H de maneira adequada para dispositivos NISQ, como destacado por Wecker et al. em 2015."
   ]
  },
  {
   "cell_type": "markdown",
   "id": "c65963c5",
   "metadata": {
    "slideshow": {
     "slide_type": "slide"
    }
   },
   "source": [
    "Os algoritmos quânticos variacionais (VQAs) utilizam um computador quântico para avaliar eficientemente uma função de custo C, enquanto um otimizador clássico treina os parâmetros θ de um Circuito Quântico Parametrizado (PQC) V(θ). Os benefícios dos VQAs são tripartidos. Primeiro, os VQAs permitem a programação orientada para tarefas em computadores quânticos, o que é importante, já que o desenvolvimento de algoritmos quânticos não é intuitivo. Segundo, os VQAs compensam a falta de qubits aproveitando o poder computacional clássico. Terceiro, transferir a complexidade para computadores clássicos, enquanto se executam apenas circuitos quânticos de baixa profundidade, é uma estratégia eficaz para mitigação de erros em dispositivos NISQ.\n",
    "![5.png](5.png)"
   ]
  },
  {
   "cell_type": "markdown",
   "id": "106e5752",
   "metadata": {
    "slideshow": {
     "slide_type": "subslide"
    }
   },
   "source": [
    "#### Estado\n",
    "\n",
    "Operador densidade é o  objeto matemático que pode ser usado para obter a expressão mais simples posssível para a probabilidade de medir o valor $o_i$ de um observável $\\hat{O}$ desse sistema. Como os operadores densidade são operadores hermitianos e positivos semi-definidos (seus autovalores são números reais maiores ou iguais a zero) e possuem traço igual a um (o traço de uma matriz é a soma dos elementos na sua diagonal principal)"
   ]
  },
  {
   "cell_type": "markdown",
   "id": "8f023c38",
   "metadata": {
    "slideshow": {
     "slide_type": "subslide"
    }
   },
   "source": [
    "#### Estado\n",
    "Conhecendo as expressões do estado $|\\psi_j\\rangle$ do sistema de medida, podemos encontrar uma expressão simples para calcular as probabilidades de medir o valor $o_j$ através do formalismo e da regra de Born\n",
    "$$\\begin{equation}\n",
    "    Pr(o_i|\\psi_j) = |\\langle  \\psi_j|o_i\\rangle|^2,\n",
    "\\end{equation}\n",
    "$$\n",
    "\n",
    "\n",
    "$$\\begin{equation}\n",
    "    \\begin{split}    \n",
    "    &Pr(o_i|\\{p_j,\\psi_j\\}) = \\sum_{j=1}^{m} p_j Pr(o_i|\\psi_j),\\\\\n",
    "    &=\\sum_j p_j\\langle\\psi_j|o_i\\rangle\\langle o_i|\\psi_j\\rangle = \\langle o_i| \\sum_j p_j|\\psi_j\\rangle\\langle\\psi_j|o_i\\rangle,\\\\\n",
    "    & = \\langle o_i|\\rho|o_i\\rangle,\n",
    "    \\end{split}\n",
    "\\end{equation}\n",
    "$$\n"
   ]
  },
  {
   "cell_type": "markdown",
   "id": "56ba7276",
   "metadata": {
    "slideshow": {
     "slide_type": "subslide"
    }
   },
   "source": [
    "#### Estado\n",
    "\n",
    "\n"
   ]
  },
  {
   "cell_type": "markdown",
   "id": "ccbd7ab3",
   "metadata": {
    "slideshow": {
     "slide_type": "subslide"
    }
   },
   "source": [
    "#### Estado\n",
    "\n",
    "\n"
   ]
  },
  {
   "cell_type": "markdown",
   "id": "abbf4deb",
   "metadata": {
    "slideshow": {
     "slide_type": "subslide"
    }
   },
   "source": [
    "### Postulados\n",
    "\n",
    "\n"
   ]
  },
  {
   "cell_type": "markdown",
   "id": "a40b98ae",
   "metadata": {
    "slideshow": {
     "slide_type": "subslide"
    }
   },
   "source": [
    "### Postulados\n",
    "\n",
    "\n"
   ]
  },
  {
   "cell_type": "markdown",
   "id": "534f2a60",
   "metadata": {
    "slideshow": {
     "slide_type": "subslide"
    }
   },
   "source": [
    "### Postulados\n",
    "\n",
    "\n"
   ]
  },
  {
   "cell_type": "markdown",
   "id": "8725f607",
   "metadata": {
    "slideshow": {
     "slide_type": "slide"
    }
   },
   "source": [
    "![2.png](2.png)"
   ]
  },
  {
   "cell_type": "markdown",
   "id": "fe3cf032",
   "metadata": {
    "slideshow": {
     "slide_type": "subslide"
    }
   },
   "source": [
    "![3.png](3.png)"
   ]
  },
  {
   "cell_type": "markdown",
   "id": "b5ca5895",
   "metadata": {
    "slideshow": {
     "slide_type": "subslide"
    }
   },
   "source": [
    "![4.png](4.png)\n"
   ]
  },
  {
   "cell_type": "markdown",
   "id": "9b2270d3",
   "metadata": {
    "slideshow": {
     "slide_type": "subslide"
    }
   },
   "source": [
    "![5.png](5.png)"
   ]
  },
  {
   "cell_type": "markdown",
   "id": "7a83b2f3",
   "metadata": {
    "slideshow": {
     "slide_type": "subslide"
    }
   },
   "source": [
    "![6.png](6.png)"
   ]
  },
  {
   "cell_type": "markdown",
   "id": "0676c6a6",
   "metadata": {
    "slideshow": {
     "slide_type": "subslide"
    }
   },
   "source": [
    "![7.png](7.png)"
   ]
  },
  {
   "cell_type": "markdown",
   "id": "d7103c22",
   "metadata": {
    "slideshow": {
     "slide_type": "subslide"
    }
   },
   "source": [
    "![8.png](8.png)"
   ]
  },
  {
   "cell_type": "markdown",
   "id": "5d0dc76a",
   "metadata": {
    "slideshow": {
     "slide_type": "subslide"
    }
   },
   "source": [
    "![9.png](9.png)"
   ]
  },
  {
   "cell_type": "markdown",
   "id": "738ec677",
   "metadata": {
    "slideshow": {
     "slide_type": "slide"
    }
   },
   "source": [
    "![10.png](10.png)"
   ]
  },
  {
   "cell_type": "markdown",
   "id": "6f8f5af6",
   "metadata": {
    "slideshow": {
     "slide_type": "subslide"
    }
   },
   "source": [
    "![11.png](11.png)"
   ]
  },
  {
   "cell_type": "markdown",
   "id": "dd1643aa",
   "metadata": {
    "slideshow": {
     "slide_type": "subslide"
    }
   },
   "source": [
    "![12.png](12.png)"
   ]
  },
  {
   "cell_type": "markdown",
   "id": "51e43cad",
   "metadata": {
    "slideshow": {
     "slide_type": "subslide"
    }
   },
   "source": [
    "![13.png](13.png)"
   ]
  },
  {
   "cell_type": "markdown",
   "id": "5619ae3f",
   "metadata": {
    "slideshow": {
     "slide_type": "subslide"
    }
   },
   "source": [
    "![14.png](14.png)"
   ]
  },
  {
   "cell_type": "markdown",
   "id": "e70e4940",
   "metadata": {
    "slideshow": {
     "slide_type": "subslide"
    }
   },
   "source": [
    "![15.png](15.png)"
   ]
  },
  {
   "cell_type": "markdown",
   "id": "dd5a25a6",
   "metadata": {
    "slideshow": {
     "slide_type": "subslide"
    }
   },
   "source": [
    "![16.png](16.png)"
   ]
  },
  {
   "cell_type": "markdown",
   "id": "7a113a4c",
   "metadata": {
    "slideshow": {
     "slide_type": "slide"
    }
   },
   "source": [
    "![17.png](17.png)"
   ]
  },
  {
   "cell_type": "markdown",
   "id": "a0e3082a",
   "metadata": {
    "slideshow": {
     "slide_type": "subslide"
    }
   },
   "source": [
    "![18.png](18.png)"
   ]
  },
  {
   "cell_type": "markdown",
   "id": "40aef602",
   "metadata": {
    "slideshow": {
     "slide_type": "subslide"
    }
   },
   "source": [
    "![19.png](19.png)"
   ]
  },
  {
   "cell_type": "markdown",
   "id": "fe2d24ec",
   "metadata": {
    "slideshow": {
     "slide_type": "subslide"
    }
   },
   "source": [
    "![20.png](20.png)"
   ]
  },
  {
   "cell_type": "markdown",
   "id": "141b0a90",
   "metadata": {
    "slideshow": {
     "slide_type": "subslide"
    }
   },
   "source": [
    "![21.png](21.png)"
   ]
  },
  {
   "cell_type": "markdown",
   "id": "ab5e5776",
   "metadata": {
    "slideshow": {
     "slide_type": "subslide"
    }
   },
   "source": [
    "![22.png](22.png)"
   ]
  },
  {
   "cell_type": "markdown",
   "id": "70d4228e",
   "metadata": {
    "slideshow": {
     "slide_type": "subslide"
    }
   },
   "source": [
    "![23.png](23.png)"
   ]
  },
  {
   "cell_type": "markdown",
   "id": "06d13948",
   "metadata": {
    "slideshow": {
     "slide_type": "slide"
    }
   },
   "source": [
    "![24.png](24.png)"
   ]
  },
  {
   "cell_type": "markdown",
   "id": "4a7f7044",
   "metadata": {
    "slideshow": {
     "slide_type": "subslide"
    }
   },
   "source": [
    "![25.png](25.png)"
   ]
  },
  {
   "cell_type": "markdown",
   "id": "b242692e",
   "metadata": {
    "slideshow": {
     "slide_type": "subslide"
    }
   },
   "source": [
    "![26.png](26.png)"
   ]
  },
  {
   "cell_type": "markdown",
   "id": "fa7034ab",
   "metadata": {
    "slideshow": {
     "slide_type": "subslide"
    }
   },
   "source": [
    "![27.png](27.png)"
   ]
  },
  {
   "cell_type": "markdown",
   "id": "99e860ad",
   "metadata": {
    "slideshow": {
     "slide_type": "subslide"
    }
   },
   "source": [
    "![28.png](28.png)"
   ]
  },
  {
   "cell_type": "markdown",
   "id": "08a75329",
   "metadata": {
    "slideshow": {
     "slide_type": "subslide"
    }
   },
   "source": [
    "![29.png](29.png)"
   ]
  },
  {
   "cell_type": "markdown",
   "id": "71375691",
   "metadata": {
    "slideshow": {
     "slide_type": "subslide"
    }
   },
   "source": [
    "![30.png](30.png)"
   ]
  },
  {
   "cell_type": "markdown",
   "id": "d5aa77b0",
   "metadata": {
    "slideshow": {
     "slide_type": "skip"
    }
   },
   "source": []
  },
  {
   "cell_type": "markdown",
   "id": "21eb1990",
   "metadata": {
    "slideshow": {
     "slide_type": "skip"
    }
   },
   "source": []
  },
  {
   "cell_type": "markdown",
   "id": "fa709961",
   "metadata": {
    "slideshow": {
     "slide_type": "skip"
    }
   },
   "source": []
  }
 ],
 "metadata": {
  "celltoolbar": "Slideshow",
  "kernelspec": {
   "display_name": "Python 3 (ipykernel)",
   "language": "python",
   "name": "python3"
  },
  "language_info": {
   "codemirror_mode": {
    "name": "ipython",
    "version": 3
   },
   "file_extension": ".py",
   "mimetype": "text/x-python",
   "name": "python",
   "nbconvert_exporter": "python",
   "pygments_lexer": "ipython3",
   "version": "3.9.13"
  }
 },
 "nbformat": 4,
 "nbformat_minor": 5
}
