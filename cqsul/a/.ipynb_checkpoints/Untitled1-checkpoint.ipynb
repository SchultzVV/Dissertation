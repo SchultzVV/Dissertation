{
 "cells": [
  {
   "cell_type": "markdown",
   "id": "db40e188",
   "metadata": {
    "slideshow": {
     "slide_type": "slide"
    }
   },
   "source": [
    "![1.png](1.png)"
   ]
  },
  {
   "cell_type": "markdown",
   "id": "4e8af28e",
   "metadata": {
    "slideshow": {
     "slide_type": "slide"
    }
   },
   "source": [
    "![2.png](2.png)"
   ]
  },
  {
   "cell_type": "markdown",
   "id": "2a4485fc",
   "metadata": {
    "slideshow": {
     "slide_type": "slide"
    }
   },
   "source": [
    "![3.png](3.png)"
   ]
  },
  {
   "cell_type": "markdown",
   "id": "0b77f140",
   "metadata": {
    "slideshow": {
     "slide_type": "slide"
    }
   },
   "source": [
    "![4.png](4.png)"
   ]
  },
  {
   "cell_type": "markdown",
   "id": "910762d4",
   "metadata": {
    "slideshow": {
     "slide_type": "slide"
    }
   },
   "source": [
    "![5.png](5.png)"
   ]
  },
  {
   "cell_type": "markdown",
   "id": "f7179e05",
   "metadata": {
    "slideshow": {
     "slide_type": "slide"
    }
   },
   "source": [
    "![6.png](6.png)"
   ]
  },
  {
   "cell_type": "markdown",
   "id": "8f633361",
   "metadata": {
    "slideshow": {
     "slide_type": "slide"
    }
   },
   "source": [
    "\n",
    "<img src=\"7.png\" alt=\"Drawing\" style=\"width: 1600px;\"/>"
   ]
  },
  {
   "cell_type": "markdown",
   "id": "ac809fc9",
   "metadata": {
    "slideshow": {
     "slide_type": "slide"
    }
   },
   "source": [
    "<img src=\"7a.png\" alt=\"Drawing\" style=\"width: 1600px;\"/>"
   ]
  },
  {
   "cell_type": "markdown",
   "id": "a191e352",
   "metadata": {
    "slideshow": {
     "slide_type": "slide"
    }
   },
   "source": [
    "![8.png](8.png)"
   ]
  },
  {
   "cell_type": "markdown",
   "id": "b664a467",
   "metadata": {
    "slideshow": {
     "slide_type": "slide"
    }
   },
   "source": [
    "![9.png](9.png)"
   ]
  },
  {
   "cell_type": "markdown",
   "id": "d1bae030",
   "metadata": {
    "slideshow": {
     "slide_type": "slide"
    }
   },
   "source": [
    "![10.png](10.png)"
   ]
  },
  {
   "cell_type": "markdown",
   "id": "ee8e0943",
   "metadata": {
    "slideshow": {
     "slide_type": "slide"
    }
   },
   "source": [
    "![10a.png](10a.png)"
   ]
  },
  {
   "cell_type": "markdown",
   "id": "a66428fa",
   "metadata": {
    "slideshow": {
     "slide_type": "slide"
    }
   },
   "source": [
    "![11.png](11.png)"
   ]
  },
  {
   "cell_type": "markdown",
   "id": "3dda893e",
   "metadata": {
    "slideshow": {
     "slide_type": "slide"
    }
   },
   "source": [
    "![12.png](12.png)"
   ]
  },
  {
   "cell_type": "markdown",
   "id": "21dbed25",
   "metadata": {
    "slideshow": {
     "slide_type": "slide"
    }
   },
   "source": [
    "![13.png](13.png)"
   ]
  },
  {
   "cell_type": "markdown",
   "id": "ab505489",
   "metadata": {
    "slideshow": {
     "slide_type": "slide"
    }
   },
   "source": [
    "![15.png](15.png)"
   ]
  },
  {
   "cell_type": "markdown",
   "id": "427cfbdc",
   "metadata": {
    "slideshow": {
     "slide_type": "slide"
    }
   },
   "source": [
    "![16.png](16.png)"
   ]
  },
  {
   "cell_type": "markdown",
   "id": "1c145596",
   "metadata": {
    "slideshow": {
     "slide_type": "slide"
    }
   },
   "source": [
    "![17.png](17.png)"
   ]
  },
  {
   "cell_type": "markdown",
   "id": "d54518ae",
   "metadata": {
    "slideshow": {
     "slide_type": "slide"
    }
   },
   "source": [
    "![18.png](18.png)"
   ]
  },
  {
   "cell_type": "markdown",
   "id": "843bcd26",
   "metadata": {
    "slideshow": {
     "slide_type": "slide"
    }
   },
   "source": [
    "![19.png](19.png)"
   ]
  },
  {
   "cell_type": "markdown",
   "id": "c5bfed71",
   "metadata": {
    "slideshow": {
     "slide_type": "slide"
    }
   },
   "source": [
    "![20.png](20.png)"
   ]
  },
  {
   "cell_type": "markdown",
   "id": "fb0b5c07",
   "metadata": {
    "slideshow": {
     "slide_type": "slide"
    }
   },
   "source": [
    "![21.png](21.png)"
   ]
  },
  {
   "cell_type": "markdown",
   "id": "15472ebb",
   "metadata": {
    "slideshow": {
     "slide_type": "slide"
    }
   },
   "source": [
    "![22.png](22.png)"
   ]
  },
  {
   "cell_type": "markdown",
   "id": "28168c28",
   "metadata": {
    "slideshow": {
     "slide_type": "slide"
    }
   },
   "source": [
    "![23.png](23.png)"
   ]
  },
  {
   "cell_type": "markdown",
   "id": "fdc53961",
   "metadata": {
    "slideshow": {
     "slide_type": "slide"
    }
   },
   "source": [
    "![24.png](24.png)"
   ]
  },
  {
   "cell_type": "markdown",
   "id": "05bf95af",
   "metadata": {
    "slideshow": {
     "slide_type": "slide"
    }
   },
   "source": [
    "![25.png](25.png)"
   ]
  },
  {
   "cell_type": "markdown",
   "id": "7127c26b",
   "metadata": {
    "slideshow": {
     "slide_type": "slide"
    }
   },
   "source": [
    "![26.png](26.png)"
   ]
  },
  {
   "cell_type": "markdown",
   "id": "c8855e07",
   "metadata": {
    "slideshow": {
     "slide_type": "slide"
    }
   },
   "source": [
    "![27.png](27.png)"
   ]
  },
  {
   "cell_type": "markdown",
   "id": "8860a050",
   "metadata": {
    "slideshow": {
     "slide_type": "slide"
    }
   },
   "source": [
    "![28.png](28.png)"
   ]
  },
  {
   "cell_type": "markdown",
   "id": "357ac5d0",
   "metadata": {
    "slideshow": {
     "slide_type": "slide"
    }
   },
   "source": [
    "![29.png](29.png)"
   ]
  },
  {
   "cell_type": "markdown",
   "id": "cf0e76a7",
   "metadata": {
    "slideshow": {
     "slide_type": "slide"
    }
   },
   "source": [
    "![30.png](30.png)"
   ]
  },
  {
   "cell_type": "markdown",
   "id": "c4657d55",
   "metadata": {
    "slideshow": {
     "slide_type": "slide"
    }
   },
   "source": [
    "![31.png](31.png)"
   ]
  },
  {
   "cell_type": "markdown",
   "id": "028cfbc9",
   "metadata": {
    "slideshow": {
     "slide_type": "slide"
    }
   },
   "source": [
    "![32.png](32.png)"
   ]
  },
  {
   "cell_type": "markdown",
   "id": "15c2d2e2",
   "metadata": {
    "slideshow": {
     "slide_type": "slide"
    }
   },
   "source": [
    "![33.png](33.png)"
   ]
  },
  {
   "cell_type": "markdown",
   "id": "b46df7bc",
   "metadata": {
    "slideshow": {
     "slide_type": "slide"
    }
   },
   "source": [
    "![34.png](34.png)"
   ]
  },
  {
   "cell_type": "markdown",
   "id": "6f83bceb",
   "metadata": {
    "slideshow": {
     "slide_type": "slide"
    }
   },
   "source": [
    "![35.png](35.png)"
   ]
  },
  {
   "cell_type": "markdown",
   "id": "60961c92",
   "metadata": {
    "slideshow": {
     "slide_type": "slide"
    }
   },
   "source": [
    "![36.png](36.png)"
   ]
  },
  {
   "cell_type": "markdown",
   "id": "a1bb3506",
   "metadata": {
    "slideshow": {
     "slide_type": "skip"
    }
   },
   "source": []
  },
  {
   "cell_type": "code",
   "execution_count": null,
   "id": "23af03d8",
   "metadata": {
    "slideshow": {
     "slide_type": "skip"
    }
   },
   "outputs": [],
   "source": []
  },
  {
   "cell_type": "code",
   "execution_count": null,
   "id": "6399b735",
   "metadata": {
    "slideshow": {
     "slide_type": "skip"
    }
   },
   "outputs": [],
   "source": []
  }
 ],
 "metadata": {
  "celltoolbar": "Slideshow",
  "kernelspec": {
   "display_name": "Python 3 (ipykernel)",
   "language": "python",
   "name": "python3"
  },
  "language_info": {
   "codemirror_mode": {
    "name": "ipython",
    "version": 3
   },
   "file_extension": ".py",
   "mimetype": "text/x-python",
   "name": "python",
   "nbconvert_exporter": "python",
   "pygments_lexer": "ipython3",
   "version": "3.9.13"
  }
 },
 "nbformat": 4,
 "nbformat_minor": 5
}
