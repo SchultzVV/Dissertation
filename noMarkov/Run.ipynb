{
 "cells": [
  {
   "cell_type": "code",
   "execution_count": 1,
   "metadata": {},
   "outputs": [],
   "source": [
    "from src.tools import *"
   ]
  },
  {
   "cell_type": "code",
   "execution_count": 5,
   "metadata": {},
   "outputs": [
    {
     "ename": "NameError",
     "evalue": "name 'Pauli' is not defined",
     "output_type": "error",
     "traceback": [
      "\u001b[0;31m---------------------------------------------------------------------------\u001b[0m",
      "\u001b[0;31mNameError\u001b[0m                                 Traceback (most recent call last)",
      "Cell \u001b[0;32mIn[5], line 24\u001b[0m\n\u001b[1;32m     22\u001b[0m         rho \u001b[39m+\u001b[39m\u001b[39m=\u001b[39m TensorProduct(i\u001b[39m*\u001b[39mPauli(index),Pauli(index))\n\u001b[1;32m     23\u001b[0m     \u001b[39mprint\u001b[39m(np\u001b[39m.\u001b[39marray(rho,dtype\u001b[39m=\u001b[39m\u001b[39mcomplex\u001b[39m))\n\u001b[0;32m---> 24\u001b[0m werner \u001b[39m=\u001b[39m werner_state(\u001b[39m-\u001b[39;49m\u001b[39m0.8\u001b[39;49m, \u001b[39m-\u001b[39;49m\u001b[39m0.8\u001b[39;49m, \u001b[39m-\u001b[39;49m\u001b[39m0.8\u001b[39;49m)\n\u001b[1;32m     25\u001b[0m \u001b[39m#stical modeling \u001b[39;00m\n\u001b[1;32m     26\u001b[0m Mais\u001b[39m=\u001b[39m(cb(\u001b[39m2\u001b[39m,\u001b[39m0\u001b[39m)\u001b[39m+\u001b[39mcb(\u001b[39m2\u001b[39m,\u001b[39m1\u001b[39m))\u001b[39m/\u001b[39msqrt(\u001b[39m2\u001b[39m)\n",
      "Cell \u001b[0;32mIn[5], line 22\u001b[0m, in \u001b[0;36mwerner_state\u001b[0;34m(c1, c2, c3)\u001b[0m\n\u001b[1;32m     20\u001b[0m \u001b[39mfor\u001b[39;00m i \u001b[39min\u001b[39;00m c:\n\u001b[1;32m     21\u001b[0m     index \u001b[39m+\u001b[39m\u001b[39m=\u001b[39m \u001b[39m1\u001b[39m\n\u001b[0;32m---> 22\u001b[0m     rho \u001b[39m+\u001b[39m\u001b[39m=\u001b[39m TensorProduct(i\u001b[39m*\u001b[39mPauli(index),Pauli(index))\n\u001b[1;32m     23\u001b[0m \u001b[39mprint\u001b[39m(np\u001b[39m.\u001b[39marray(rho,dtype\u001b[39m=\u001b[39m\u001b[39mcomplex\u001b[39m))\n",
      "\u001b[0;31mNameError\u001b[0m: name 'Pauli' is not defined"
     ]
    }
   ],
   "source": [
    "import sys as s\n",
    "from sympy import *\n",
    "\n",
    "import numpy as np\n",
    "init_printing(use_unicode=True)\n",
    "from matplotlib import pyplot as plt\n",
    "%matplotlib inline\n",
    "from sympy.physics.quantum.dagger import Dagger\n",
    "from sympy.physics.quantum import TensorProduct\n",
    "import scipy.interpolate\n",
    "import platform\n",
    "\n",
    "def werner_state(c1, c2, c3):\n",
    "    # c = [-0.8,-0.8,-0.8]\n",
    "    c = [c1, c2, c3]\n",
    "    index = 0\n",
    "    rho = np.zeros((4,4),dtype=complex)\n",
    "    for i in range(len(rho)):\n",
    "        rho[i,i] = 1\n",
    "    for i in c:\n",
    "        index += 1\n",
    "        rho += TensorProduct(i*Pauli(index),Pauli(index))\n",
    "    print(np.array(rho,dtype=complex))\n",
    "werner = werner_state(-0.8, -0.8, -0.8)\n",
    "#stical modeling \n",
    "Mais=(cb(2,0)+cb(2,1))/sqrt(2)\n",
    "Menos=(cb(2,0)-cb(2,1))/sqrt(2)\n",
    "werner"
   ]
  }
 ],
 "metadata": {
  "kernelspec": {
   "display_name": "env",
   "language": "python",
   "name": "python3"
  },
  "language_info": {
   "codemirror_mode": {
    "name": "ipython",
    "version": 3
   },
   "file_extension": ".py",
   "mimetype": "text/x-python",
   "name": "python",
   "nbconvert_exporter": "python",
   "pygments_lexer": "ipython3",
   "version": "3.10.12"
  },
  "orig_nbformat": 4
 },
 "nbformat": 4,
 "nbformat_minor": 2
}
